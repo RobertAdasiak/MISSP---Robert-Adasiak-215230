{
  "nbformat": 4,
  "nbformat_minor": 0,
  "metadata": {
    "colab": {
      "name": "cd_podstaw_pythona.ipynb",
      "provenance": []
    },
    "kernelspec": {
      "name": "python3",
      "display_name": "Python 3"
    }
  },
  "cells": [
    {
      "cell_type": "markdown",
      "metadata": {
        "id": "6wbDhZAi6_6W"
      },
      "source": [
        "**challenge 1**\r\n",
        "Stworz typ NumerTelefonu\r\n",
        "\r\n",
        "-- przy tworzeniu sprawdza czy właściwy numer (Polski) jeśli nie pisze, że error (ew. Exception)\r\n",
        "\r\n",
        "-- gdy printuję to mi pisze polskimi słowami i.e. \"jeden, pięć, siedem, zero\"\r\n",
        "\r\n",
        "-- gdy wywołuję właściwość wojewodzwtwo, podaje mi wojewodztwo ew. ze to komorkowy"
      ]
    },
    {
      "cell_type": "code",
      "metadata": {
        "colab": {
          "base_uri": "https://localhost:8080/"
        },
        "id": "FPxsJrQgADFy",
        "outputId": "fe8ce827-ca9d-4f3b-dfde-7de7833d2d72"
      },
      "source": [
        "print (\"Podaj numer telefonu:\")\r\n",
        "wpisz_numer = input()\r\n",
        "class numertelefonu:\r\n",
        "\r\n",
        "    def __init__(self, sprawdz_numer):\r\n",
        "        self.numer = sprawdz_numer\r\n",
        "        print(\"Wpisany numer:\", self.numer,)\r\n",
        "      \r\n",
        "    @property\r\n",
        "    def sprawdz_poprawnosc(self):\r\n",
        "        if (len(self.numer)==9):\r\n",
        "          print(\"numer poprawny\")     \r\n",
        "        else:\r\n",
        "          print(\"ERROR\")\r\n",
        "\r\n",
        "    @property\r\n",
        "    def sprawdz_kierunkowy(self):\r\n",
        "      kierunkowy = \"\"\r\n",
        "      kierunkowy_Lodzkie = [42, 43, 44, 46]\r\n",
        "      prefix = int(self.numer[0])*10 + int(self.numer[1])\r\n",
        "      if (prefix in kierunkowy_Lodzkie):\r\n",
        "        kierunkowy = \"Łódzkie\"\r\n",
        "      else:\r\n",
        "        kierunkowy = \"Nieznane\"\r\n",
        "      print(\"Województwo:\", kierunkowy)\r\n",
        "\r\n",
        "    @property\r\n",
        "    def napisz(self):\r\n",
        "      numer_slownie = \"\"\r\n",
        "      cyfry_slownie = [\"zero\", \"jeden\", \"dwa\", \"trzy\", \"cztery\", \"pięć\", \"sześć\", \"siedem\", \"osiem\", \"dziewieć\"]\r\n",
        "      for x in range(len(self.numer)):\r\n",
        "        numer_slownie += cyfry_slownie[int(self.numer[x])] + \" \"\r\n",
        "      print (\"Numer słownie:\", numer_slownie)  \r\n",
        "   \r\n",
        "sprawdz_numer = numertelefonu(wpisz_numer)\r\n",
        "sprawdz_numer.sprawdz_poprawnosc\r\n",
        "sprawdz_numer.sprawdz_kierunkowy\r\n",
        "sprawdz_numer.napisz"
      ],
      "execution_count": 47,
      "outputs": [
        {
          "output_type": "stream",
          "text": [
            "Podaj numer telefonu:\n",
            "429999999\n",
            "Wpisany numer: 429999999\n",
            "numer poprawny\n",
            "Województwo: Łódzkie\n",
            "Numer słownie: cztery dwa dziewieć dziewieć dziewieć dziewieć dziewieć dziewieć dziewieć \n"
          ],
          "name": "stdout"
        }
      ]
    }
  ]
}