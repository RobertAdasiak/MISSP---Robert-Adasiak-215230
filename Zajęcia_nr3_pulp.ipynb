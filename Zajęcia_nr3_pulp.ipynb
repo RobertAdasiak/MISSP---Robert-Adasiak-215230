{
  "nbformat": 4,
  "nbformat_minor": 0,
  "metadata": {
    "colab": {
      "name": "Zajęcia nr3 pulp.ipynb",
      "provenance": []
    },
    "kernelspec": {
      "name": "python3",
      "display_name": "Python 3"
    }
  },
  "cells": [
    {
      "cell_type": "code",
      "metadata": {
        "id": "pVOJVnxqcLbf"
      },
      "source": [
        "!pip install pulp\r\n",
        "!sudo apt-get install coinor-cbc glpk-utils coinor-clp"
      ],
      "execution_count": null,
      "outputs": []
    },
    {
      "cell_type": "markdown",
      "metadata": {
        "id": "QkzxGc2Zcd31"
      },
      "source": [
        "Były to nasze pierwsze zajęcia z Pulpa. Pierwszym krokiem była instalacja pulpa. Nastepnie naszym zadaniem było przepisanie kodu do notatnika oraz główne zadanie polegało na zminimalizowaniu kosztu produkcji puszki karmy."
      ]
    },
    {
      "cell_type": "code",
      "metadata": {
        "colab": {
          "base_uri": "https://localhost:8080/",
          "height": 368
        },
        "id": "cw-pxRtIdBhi",
        "outputId": "5a5b955e-9bd1-4772-bbc8-8907d80e30be"
      },
      "source": [
        "from pulp import *\r\n",
        "\r\n",
        "# Creates a list of the Ingredients\r\n",
        "Ingredients = ['CHICKEN', 'BEEF', 'MUTTON', 'RICE', 'WHEAT', 'GEL','SARDINES']\r\n",
        "\r\n",
        "# A dictionary of the costs of each of the Ingredients is created\r\n",
        "\r\n",
        "costs = {'CHICKEN': 0.013, \r\n",
        "         'BEEF': 0.008, \r\n",
        "         'MUTTON': 0.010, \r\n",
        "         'RICE': 0.002, \r\n",
        "         'WHEAT': 0.005, \r\n",
        "         'GEL': 0.001,\r\n",
        "         'SARDINES': 0.020}\r\n",
        "\r\n",
        "# A dictionary of the protein percent in each of the Ingredients is created\r\n",
        "\r\n",
        "proteinPercent = {'CHICKEN': 0.100, \r\n",
        "                  'BEEF': 0.200, \r\n",
        "                  'MUTTON': 0.150, \r\n",
        "                  'RICE': 0.000, \r\n",
        "                  'WHEAT': 0.040, \r\n",
        "                  'GEL': 0.000,\r\n",
        "                  'SARDINES': 0.250}\r\n",
        "\r\n",
        "# A dictionary of the fat percent in each of the Ingredients is created\r\n",
        "\r\n",
        "fatPercent = {'CHICKEN': 0.080, \r\n",
        "              'BEEF': 0.100, \r\n",
        "              'MUTTON': 0.110, \r\n",
        "              'RICE': 0.010, \r\n",
        "              'WHEAT': 0.010, \r\n",
        "              'GEL': 0.000,\r\n",
        "              'SARDINES': 0.110}\r\n",
        "\r\n",
        "# A dictionary of the fibre percent in each of the Ingredients is created\r\n",
        "\r\n",
        "fibrePercent = {'CHICKEN': 0.001, \r\n",
        "                'BEEF': 0.005, \r\n",
        "                'MUTTON': 0.003, \r\n",
        "                'RICE': 0.100, \r\n",
        "                'WHEAT': 0.150, \r\n",
        "                'GEL': 0.000,\r\n",
        "                'SARDINES': 0.000}\r\n",
        "\r\n",
        "# A dictionary of the salt percent in each of the Ingredients is created\r\n",
        "\r\n",
        "saltPercent = {'CHICKEN': 0.002, \r\n",
        "               'BEEF': 0.005, \r\n",
        "               'MUTTON': 0.007, \r\n",
        "               'RICE': 0.002, \r\n",
        "               'WHEAT': 0.008, \r\n",
        "               'GEL': 0.000,\r\n",
        "               'SARDINES': 0.001}\r\n",
        "\r\n",
        "vitaminBPercent = {'CHICKEN': 0.003, \r\n",
        "               'BEEF': 0.026, \r\n",
        "               'MUTTON': 0.026, \r\n",
        "               'RICE': 0.002, \r\n",
        "               'WHEAT': 0.008, \r\n",
        "               'GEL': 0.000,\r\n",
        "               'SARDINES': 0.089}\r\n",
        "\r\n",
        "# Create the 'prob' variable to contain the problem data\r\n",
        "prob = LpProblem(\"The Whiskas Problem\", LpMinimize)\r\n",
        "\r\n",
        "# A dictionary called 'ingredient_vars' is created to contain the referenced Variables\r\n",
        "ingredient_vars = LpVariable.dicts(\"Ingr\",Ingredients,0)\r\n",
        "\r\n",
        "prob += lpSum([costs[i]*ingredient_vars[i] for i in Ingredients]), \"Total Cost of Ingredients per can\"\r\n",
        "\r\n",
        "# The constraints are added to 'prob'\r\n",
        "prob += lpSum([ingredient_vars[i] for i in Ingredients]) == 100, \"PercentagesSum\"\r\n",
        "prob += lpSum([proteinPercent[i] * ingredient_vars[i] for i in Ingredients]) >= 8.0, \"ProteinRequirement\"\r\n",
        "prob += lpSum([fatPercent[i] * ingredient_vars[i] for i in Ingredients]) >= 6.0, \"FatRequirement\"\r\n",
        "prob += lpSum([fibrePercent[i] * ingredient_vars[i] for i in Ingredients]) <= 2.0, \"FibreRequirement\"\r\n",
        "prob += lpSum([saltPercent[i] * ingredient_vars[i] for i in Ingredients]) <= 0.4, \"SaltRequirement\"             \r\n",
        "prob += lpSum([vitaminBPercent[i] * ingredient_vars[i] for i in Ingredients]) >= 0.8, \"VitaminBRequirement\"\r\n",
        "\r\n",
        "# The problem data is written to an .lp file\r\n",
        "prob.writeLP(\"WhiskasModel.lp\")\r\n",
        "\r\n",
        "# Solve given problem\r\n",
        "prob.solve()\r\n",
        "\r\n",
        "Content = []\r\n",
        "\r\n",
        "# Get content of every ingredient\r\n",
        "for v in prob.variables():\r\n",
        "    Content.append(str(v.varValue)+'g')\r\n",
        "    \r\n",
        "\r\n",
        "# Print summary\r\n",
        "summary = \"Final product will cost \" + str(value(prob.objective)) + \" per can\" + \" and will contain:\\n\"\r\n",
        "\r\n",
        "ingr_cont = [\":\".join((ingr, str(cont))) for ingr,cont in zip(Ingredients,Content)]\r\n",
        "ingr_cont = \", \".join(ingr_cont)\r\n",
        "\r\n",
        "summary += ingr_cont\r\n",
        "\r\n",
        "print(summary)"
      ],
      "execution_count": 3,
      "outputs": [
        {
        
}
