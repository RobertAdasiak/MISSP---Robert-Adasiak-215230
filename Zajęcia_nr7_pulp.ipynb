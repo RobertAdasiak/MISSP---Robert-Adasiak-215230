{
  "nbformat": 4,
  "nbformat_minor": 0,
  "metadata": {
    "colab": {
      "name": "Untitled6.ipynb",
      "provenance": []
    },
    "kernelspec": {
      "name": "python3",
      "display_name": "Python 3"
    }
  },
  "cells": [
    {
      "cell_type": "markdown",
      "metadata": {
        "id": "gB1wKDxkvj8j"
      },
      "source": [
        "Zadanie na zajęciach polegało na minimalizacji kosztów pracy u pracowników.\r\n",
        "Wartością modyfikowalną była obecność pracownika w pracy.\r\n",
        "\r\n"
      ]
    },
    {
      "cell_type": "code",
      "metadata": {
        "id": "2JK7yzQVvxIA"
      },
      "source": [
        "from pulp import *\r\n",
        "\r\n",
        "prob = LpProblem(\"Optymalizacja\",LpMinimize)\r\n",
        "\r\n",
        "AniaPon = LpVariable(\"Ania_w_poniedzialek\", 0, 1, LpInteger)\r\n",
        "AniaWt = LpVariable(\"Ania_we_wtorek\", 0, 1, LpInteger)\r\n",
        "AniaSr = LpVariable(\"Ania_w_srode\", 0, 1, LpInteger)\r\n",
        "AniaCzw = LpVariable(\"Ania_w_czwartek\", 0, 1, LpInteger)\r\n",
        "AniaPt = LpVariable(\"Ania_w_piatek\", 0, 1, LpInteger)\r\n",
        "StefanPon = LpVariable(\"Stefan_w_poniedzialek\", 0, 1, LpInteger)\r\n",
        "StefanWt = LpVariable(\"Stefan_we_wtorek\", 0, 1, LpInteger)\r\n",
        "StefanSr = LpVariable(\"Stefan_w_srode\", 0, 1, LpInteger)\r\n",
        "StefanCzw = LpVariable(\"Stefan_w_czwartek\", 0, 1, LpInteger)\r\n",
        "StefanPt = LpVariable(\"Stefan_w_piatek\", 0, 1, LpInteger)\r\n",
        "HektorPon = LpVariable(\"Hektor_w_poniedzialek\", 0, 1, LpInteger)\r\n",
        "HektorWt = LpVariable(\"Hektor_we_wtorek\", 0, 1, LpInteger)\r\n",
        "HektorSr = LpVariable(\"Hektor_w_srode\", 0, 1, LpInteger)\r\n",
        "HektorCzw = LpVariable(\"Hektor_w_czwartek\", 0, 1, LpInteger)\r\n",
        "HektorPt = LpVariable(\"Hektor_w_piatek\", 0, 1, LpInteger)\r\n",
        "OlafPon = LpVariable(\"Olaf_w_poniedzialek\", 0, 1, LpInteger)\r\n",
        "OlafWt = LpVariable(\"Olaf_we_wtorek\", 0, 1, LpInteger)\r\n",
        "OlafSr = LpVariable(\"Olaf_w_srode\", 0, 1, LpInteger)\r\n",
        "OlafCzw = LpVariable(\"Olaf_w_czwartek\", 0, 1, LpInteger)\r\n",
        "OlafPt = LpVariable(\"Olaf_w_piatek\", 0, 1, LpInteger)\r\n",
        "LidiaPon = LpVariable(\"Lidia_w_poniedzialek\", 0, 1, LpInteger)\r\n",
        "LidiaWt = LpVariable(\"Lidia_we_wtorek\", 0, 1, LpInteger)\r\n",
        "LidiaSr = LpVariable(\"Lidia_w_srode\", 0, 1, LpInteger)\r\n",
        "LidiaCzw = LpVariable(\"Lidia_w_czwartek\", 0, 1, LpInteger)\r\n",
        "LidiaPt = LpVariable(\"Lidia_w_piatek\", 0, 1, LpInteger)\r\n",
        "PiotrPon = LpVariable(\"Piotr_w_poniedzialek\", 0, 1, LpInteger)\r\n",
        "PiotrWt = LpVariable(\"Piotr_we_wtorek\", 0, 1, LpInteger)\r\n",
        "PiotrSr = LpVariable(\"Piotr_w_srode\", 0, 1, LpInteger)\r\n",
        "PiotrCzw = LpVariable(\"Piotr_w_czwartek\", 0, 1, LpInteger)\r\n",
        "PiotrPt = LpVariable(\"Piotr_w_piatek\", 0, 1, LpInteger)\r\n",
        "\r\n",
        "Ania_koszt = 100\r\n",
        "Stefan_koszt = 50\r\n",
        "Hektor_koszt = 60\r\n",
        "Olaf_koszt = 40\r\n",
        "Lidia_koszt = 110\r\n",
        "Piotr_koszt = 70\r\n",
        "\r\n",
        "prob += (AniaPon+AniaWt+AniaSr+AniaCzw+AniaPt)*Ania_koszt+(StefanPon+StefanWt+StefanSr+StefanCzw+StefanPt)*Stefan_koszt+(HektorPon+HektorWt+HektorSr+HektorCzw+HektorPt)*Hektor_koszt+(OlafPon+OlafWt+OlafSr+OlafCzw+OlafPt)*Olaf_koszt+(LidiaPon+LidiaWt+LidiaSr+LidiaCzw+LidiaPt)*Lidia_koszt+(PiotrPon+PiotrWt+PiotrSr+PiotrCzw+PiotrPt)*Piotr_koszt, \"koszt minimalny\"\r\n",
        "\r\n",
        "prob += AniaPon+AniaWt+AniaSr+AniaCzw+AniaPt <= 3, \"1\" \r\n",
        "prob += StefanPon+StefanWt+StefanSr+StefanCzw+StefanPt <= 3, \"2\" \r\n",
        "prob += HektorPon+HektorWt+HektorSr+HektorCzw+HektorPt <= 3, \"3\" \r\n",
        "prob += OlafPon+OlafWt+OlafSr+OlafCzw+OlafPt <= 3, \"4\"\r\n",
        "prob += LidiaPon+LidiaWt+LidiaSr+LidiaCzw+LidiaPt <= 3, \"5\"\r\n",
        "prob += PiotrPon+PiotrWt+PiotrSr+PiotrCzw+PiotrPt <= 3, \"6\"\r\n",
        "\r\n",
        "prob += StefanWt+StefanSr+StefanCzw+StefanPt == 0 , \"7\"\r\n",
        "prob += HektorCzw+HektorPt == 0, \"8\"\r\n",
        "prob += LidiaPon+LidiaWt+LidiaSr == 0, \"9\"\r\n",
        "prob += PiotrCzw+PiotrPt == 0, \"10\"\r\n",
        "\r\n",
        "prob += AniaPon+StefanPon+HektorPon+OlafPon+LidiaPon+PiotrPon == 2, \"Osoby - poniedzialek\"\r\n",
        "prob += AniaWt+StefanWt+HektorWt+OlafWt+LidiaWt+PiotrWt == 1, \"Osoby - wtorek\"\r\n",
        "prob += AniaSr+StefanSr+HektorSr+OlafSr+LidiaSr+PiotrSr == 1, \"Osoby - srode\"\r\n",
        "prob += AniaCzw+StefanCzw+HektorCzw+OlafCzw+LidiaCzw+PiotrCzw == 1, \"Osoby - czwartek\"\r\n",
        "prob += AniaPt+StefanPt+HektorPt+OlafPt+LidiaPt+PiotrPt == 3, \"Osoby - piatek\"\r\n",
        "\r\n",
        "prob.writeLP(\"tydz.lp\")\r\n",
        "\r\n",
        "prob.solve()\r\n",
        "print(\"Jakość:\", LpStatus[prob.status])\r\n",
        "\r\n",
        "print(\"Cały koszt:\", value(prob.objective), \"zł\")\r\n",
        "print(\"_\"*40)\r\n",
        "\r\n",
        "for v in prob.variables():\r\n",
        "    print(v.name, \"=\", v.varValue)"
      ],
      "execution_count": null,
      "outputs": []
    {
          "output_type": "stream",
          "text": [
            "Jakość: Optimal\n",
            "Cały koszt: 500.0 zł\n",
            "________________________________________\n",
            "Ania_w_czwartek = 0.0\n",
            "Ania_w_piatek = 1.0\n",
            "Ania_w_poniedzialek = 0.0\n",
            "Ania_w_srode = 0.0\n",
            "Ania_we_wtorek = 0.0\n",
            "Hektor_w_czwartek = 0.0\n",
            "Hektor_w_piatek = 0.0\n",
            "Hektor_w_poniedzialek = 1.0\n",
            "Hektor_w_srode = 1.0\n",
            "Hektor_we_wtorek = 0.0\n",
            "Lidia_w_czwartek = 0.0\n",
            "Lidia_w_piatek = 1.0\n",
            "Lidia_w_poniedzialek = 0.0\n",
            "Lidia_w_srode = 0.0\n",
            "Lidia_we_wtorek = 0.0\n",
            "Olaf_w_czwartek = 1.0\n",
            "Olaf_w_piatek = 1.0\n",
            "Olaf_w_poniedzialek = 0.0\n",
            "Olaf_w_srode = 0.0\n",
            "Olaf_we_wtorek = 1.0\n",
            "Piotr_w_czwartek = 0.0\n",
            "Piotr_w_piatek = 0.0\n",
            "Piotr_w_poniedzialek = 0.0\n",
            "Piotr_w_srode = 0.0\n",
            "Piotr_we_wtorek = 0.0\n",
            "Stefan_w_czwartek = 0.0\n",
            "Stefan_w_piatek = 0.0\n",
            "Stefan_w_poniedzialek = 1.0\n",
            "Stefan_w_srode = 0.0\n",
            "Stefan_we_wtorek = 0.0\n"
          ],
          "name": "stdout"
        }
      ]
    }
  ]
}
