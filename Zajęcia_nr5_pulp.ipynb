{
  "nbformat": 4,
  "nbformat_minor": 0,
  "metadata": {
    "colab": {
      "name": "Zajęcia_nr5_pulp.ipynb",
      "provenance": []
    },
    "kernelspec": {
      "name": "python3",
      "display_name": "Python 3"
    }
  },
  "cells": [
    {
      "cell_type": "markdown",
      "metadata": {
        "id": "rKlwOFKmmVN_"
      },
      "source": [
        "Naszym zadaniem na tych zajęciach była minimalizacja mocy w poniższym mostku rezystorownym.\r\n",
        "![Bez tytułu.png](data:image/png;base64,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)"
      ]
    },
    {
      "cell_type": "markdown",
      "metadata": {
        "id": "A6jkazUFmoSj"
      },
      "source": [
        "\r\n",
        "\r\n",
        "1. R1:  U1 = 6V, I1 = 4mA\r\n",
        "2. R2:  U2 = 10V, I2 = 2mA\r\n",
        "3. R3:  U3 = 4V, I3 = 2mA\r\n",
        "4. R4:  U4 = 7V, I4 = 2mA\r\n",
        "5. R5:  U5 = 3V, I5 = 4mA\r\n",
        "6. Dla wszystkich R deltai = 1mA\r\n",
        "\r\n"
      ]
    },
    {
      "cell_type": "code",
      "metadata": {
        "id": "MOQv2Dl6nRE5"
      },
      "source": [
        "import numpy as np\r\n",
        "from pulp import *\r\n",
        "\r\n",
        "prob = LpProblem(\"Minimalizacja mocy\",LpMinimize)\r\n",
        "\r\n",
        "i1=LpVariable(\"I_1\", 0.003, 0.005, LpContinuous)\r\n",
        "i2=LpVariable(\"I_2\", 0.001, 0.003, LpContinuous)\r\n",
        "i3=LpVariable(\"I_3\", 0.001, 0.003, LpContinuous)\r\n",
        "i4=LpVariable(\"I_4\", 0.001, 0.003, LpContinuous)\r\n",
        "i5=LpVariable(\"I_5\", 0.003, 0.005, LpContinuous)\r\n",
        " \r\n",
        "U = (6.0, 10.0, 4.0, 7.0, 3.0)\r\n",
        "\r\n",
        "prob += U[0]*i1 + U[1]*i2 + U[2]*i3 + U[3]*i4 + U[4]*i5, \"Pmax\"\r\n",
        "\r\n",
        "prob += i1-i3 == i4, \"I1\" \r\n",
        "prob += i2+i3 == i5, \"I2\"\r\n",
        "\r\n",
        "prob.writeLP(\"mostek.lp\")\r\n",
        "\r\n",
        "prob.solve()\r\n",
        "print(\"Status:\", LpStatus[prob.status])\r\n",
        "\r\n",
        "for v in prob.variables():\r\n",
        "    print(v.name, \"=\", v.varValue, 'A')\r\n",
        "\r\n",
        "print()\r\n",
        "\r\n",
        "print(\"Straty =\", value(prob.objective), \"W\\n\")  \r\n",
        "\r\n",
        "for v, k in zip(U, prob.variables()):\r\n",
        "  print(\"R\",U.index(v)+1,\"=\",(v/k.varValue/1000),\"kohm\")"
      ],
      "execution_count": null,
      "outputs": []
    },
    {
      "cell_type": "markdown",
      "metadata": {
        "id": "A_n0ggXboBlI"
      },
      "source": [
        Status: Optimal
I_1 = 0.003 A
I_2 = 0.001 A
I_3 = 0.002 A
I_4 = 0.001 A
I_5 = 0.003 A

Straty = 0.052000000000000005 W

R 1 = 2.0 kohm
R 2 = 10.0 kohm
R 3 = 2.0 kohm
R 4 = 7.0 kohm
R 5 = 1.0 kohm
